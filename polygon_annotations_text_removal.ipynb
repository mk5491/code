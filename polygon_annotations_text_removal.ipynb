{
 "cells": [
  {
   "cell_type": "code",
   "execution_count": 2,
   "id": "7ad28808",
   "metadata": {},
   "outputs": [
    {
     "name": "stdout",
     "output_type": "stream",
     "text": [
      "Text removed and saved for all .txt files.\n"
     ]
    }
   ],
   "source": [
    "import os\n",
    "\n",
    "# Function to read the content of a .txt file and remove the text\n",
    "def process_txt_file(file_path):\n",
    "    with open(file_path, 'r') as file:\n",
    "        lines = file.readlines()\n",
    "\n",
    "    # Extract the lines after the first comma (',')\n",
    "    processed_lines = [line.split(',', 1)[1] for line in lines]\n",
    "\n",
    "    # Join the processed lines into a single string\n",
    "    processed_content = '\\n'.join(processed_lines)\n",
    "\n",
    "    # Save the processed content back to the same file\n",
    "    with open(file_path, 'w') as file:\n",
    "        file.write(processed_content)\n",
    "\n",
    "# Directory containing the .txt files\n",
    "directory_path = 'polygon_annotations'\n",
    "\n",
    "# Iterate through each file in the directory\n",
    "for filename in os.listdir(directory_path):\n",
    "    if filename.endswith('.txt'):\n",
    "        file_path = os.path.join(directory_path, filename)\n",
    "        process_txt_file(file_path)\n",
    "\n",
    "print(\"Text removed and saved for all .txt files.\")"
   ]
  },
  {
   "cell_type": "code",
   "execution_count": null,
   "id": "7d8b680b",
   "metadata": {},
   "outputs": [],
   "source": []
  }
 ],
 "metadata": {
  "kernelspec": {
   "display_name": "Python 3 (ipykernel)",
   "language": "python",
   "name": "python3"
  },
  "language_info": {
   "codemirror_mode": {
    "name": "ipython",
    "version": 3
   },
   "file_extension": ".py",
   "mimetype": "text/x-python",
   "name": "python",
   "nbconvert_exporter": "python",
   "pygments_lexer": "ipython3",
   "version": "3.9.12"
  }
 },
 "nbformat": 4,
 "nbformat_minor": 5
}
