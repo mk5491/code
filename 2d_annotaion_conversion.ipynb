{
 "cells": [
  {
   "cell_type": "code",
   "execution_count": 2,
   "id": "8c6c5c5e",
   "metadata": {},
   "outputs": [],
   "source": [
    "import os\n",
    "\n",
    "def convert_to_yolov3_format(line, image_width, image_height):\n",
    "    parts = line.strip().split(',')\n",
    "    class_label = int(parts[0])\n",
    "    x_center = (int(parts[1]) + int(parts[3])) / (2.0 * image_width)\n",
    "    y_center = (int(parts[2]) + int(parts[4])) / (2.0 * image_height)\n",
    "    width = (int(parts[3]) - int(parts[1])) / float(image_width)\n",
    "    height = (int(parts[4]) - int(parts[2])) / float(image_height)\n",
    "    return f\"{class_label} {x_center:.6f} {y_center:.6f} {width:.6f} {height:.6f}\"\n",
    "\n",
    "def process_file(file_path, image_width, image_height):\n",
    "    with open(file_path, 'r') as file:\n",
    "        lines = file.readlines()\n",
    "\n",
    "    converted_lines = [convert_to_yolov3_format(line, image_width, image_height) for line in lines]\n",
    "\n",
    "    with open(file_path, 'w') as file:\n",
    "        file.write('\\n'.join(converted_lines))\n",
    "\n",
    "def main():\n",
    "    folder_path = '2D_Annotaion'  # Replace with the actual folder path\n",
    "    image_width = 1280  # Replace with the width of your images\n",
    "    image_height = 966  # Replace with the height of your images\n",
    "\n",
    "    for filename in os.listdir(folder_path):\n",
    "        if filename.endswith('.txt'):\n",
    "            file_path = os.path.join(folder_path, filename)\n",
    "            process_file(file_path, image_width, image_height)\n",
    "\n",
    "if __name__ == \"__main__\":\n",
    "    main()"
   ]
  },
  {
   "cell_type": "code",
   "execution_count": null,
   "id": "640d6e7c",
   "metadata": {},
   "outputs": [],
   "source": []
  }
 ],
 "metadata": {
  "kernelspec": {
   "display_name": "Python 3 (ipykernel)",
   "language": "python",
   "name": "python3"
  },
  "language_info": {
   "codemirror_mode": {
    "name": "ipython",
    "version": 3
   },
   "file_extension": ".py",
   "mimetype": "text/x-python",
   "name": "python",
   "nbconvert_exporter": "python",
   "pygments_lexer": "ipython3",
   "version": "3.9.12"
  }
 },
 "nbformat": 4,
 "nbformat_minor": 5
}
