{
 "cells": [
  {
   "cell_type": "code",
   "execution_count": 1,
   "id": "331f72a2",
   "metadata": {},
   "outputs": [
    {
     "name": "stdout",
     "output_type": "stream",
     "text": [
      "List of empty .txt files:\n",
      "00843_MVL.txt\n",
      "01272_MVL.txt\n",
      "03644_MVL.txt\n",
      "03925_MVR.txt\n",
      "05196_MVL.txt\n",
      "05731_MVR.txt\n",
      "06063_MVL.txt\n",
      "06198_MVL.txt\n",
      "06332_MVL.txt\n",
      "06355_FV.txt\n",
      "06447_RV.txt\n",
      "06458_MVR.txt\n",
      "06465_RV.txt\n",
      "06665_RV.txt\n",
      "06731_FV.txt\n",
      "06732_MVR.txt\n",
      "06735_MVR.txt\n",
      "06777_FV.txt\n",
      "06785_MVR.txt\n",
      "06810_RV.txt\n",
      "06818_RV.txt\n",
      "06830_RV.txt\n",
      "06831_RV.txt\n",
      "06835_RV.txt\n",
      "06950_RV.txt\n",
      "06993_FV.txt\n",
      "06995_MVL.txt\n",
      "07043_MVR.txt\n",
      "07206_FV.txt\n",
      "07398_FV.txt\n",
      "07414_MVL.txt\n",
      "07477_RV.txt\n",
      "07600_RV.txt\n",
      "07650_RV.txt\n",
      "07664_FV.txt\n",
      "07694_RV.txt\n",
      "07697_MVL.txt\n",
      "07708_FV.txt\n",
      "07721_RV.txt\n",
      "07742_RV.txt\n",
      "07751_MVL.txt\n",
      "08129_RV.txt\n",
      "08146_RV.txt\n",
      "08159_MVR.txt\n"
     ]
    }
   ],
   "source": [
    "import os\n",
    "\n",
    "def is_file_empty(file_path):\n",
    "    return os.path.getsize(file_path) == 0\n",
    "\n",
    "def get_empty_text_files(input_directory):\n",
    "    empty_files = []\n",
    "    for filename in os.listdir(input_directory):\n",
    "        if filename.endswith('.txt'):\n",
    "            input_file_path = os.path.join(input_directory, filename)\n",
    "            if is_file_empty(input_file_path):\n",
    "                empty_files.append(filename)\n",
    "    return empty_files\n",
    "\n",
    "if __name__ == \"__main__\":\n",
    "    input_directory = 'polygon_annotations'  # Replace with the path to your directory containing .txt files\n",
    "\n",
    "    empty_files_list = get_empty_text_files(input_directory)\n",
    "    print(\"List of empty .txt files:\")\n",
    "    for filename in empty_files_list:\n",
    "        print(filename)\n"
   ]
  },
  {
   "cell_type": "code",
   "execution_count": 2,
   "id": "208e4438",
   "metadata": {},
   "outputs": [
    {
     "data": {
      "text/plain": [
       "44"
      ]
     },
     "execution_count": 2,
     "metadata": {},
     "output_type": "execute_result"
    }
   ],
   "source": [
    "len(empty_files_list)"
   ]
  },
  {
   "cell_type": "code",
   "execution_count": null,
   "id": "0c92b7ce",
   "metadata": {},
   "outputs": [],
   "source": []
  }
 ],
 "metadata": {
  "kernelspec": {
   "display_name": "Python 3 (ipykernel)",
   "language": "python",
   "name": "python3"
  },
  "language_info": {
   "codemirror_mode": {
    "name": "ipython",
    "version": 3
   },
   "file_extension": ".py",
   "mimetype": "text/x-python",
   "name": "python",
   "nbconvert_exporter": "python",
   "pygments_lexer": "ipython3",
   "version": "3.9.12"
  }
 },
 "nbformat": 4,
 "nbformat_minor": 5
}
